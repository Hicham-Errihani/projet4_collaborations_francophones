{
 "cells": [
  {
   "cell_type": "code",
   "execution_count": 2,
   "id": "9ad1745b-86b2-43d5-b733-a9af706c02c5",
   "metadata": {},
   "outputs": [
    {
     "name": "stdout",
     "output_type": "stream",
     "text": [
      "Nombre de collaborations détectées (co-auteurs sur les 1000 premières publications) : 255\n"
     ]
    }
   ],
   "source": [
    "import requests\n",
    "\n",
    "url = \"https://api.archives-ouvertes.fr/search/?q=language_s:fr&fl=authFullName_s&rows=1000\"\n",
    "response = requests.get(url)\n",
    "\n",
    "if response.status_code == 200:\n",
    "    data = response.json()\n",
    "    docs = data.get('response', {}).get('docs', [])\n",
    "    \n",
    "    collaborations = sum(1 for d in docs if isinstance(d.get(\"authFullName_s\"), list) and len(d[\"authFullName_s\"]) > 1)\n",
    "    \n",
    "    print(f\"Nombre de collaborations détectées (co-auteurs sur les 1000 premières publications) : {collaborations}\")\n",
    "else:\n",
    "    print(\"Erreur lors de la récupération des données.\")\n"
   ]
  },
  {
   "cell_type": "code",
   "execution_count": null,
   "id": "352e7b97-7a21-4371-aa4d-6412adbf5ce9",
   "metadata": {},
   "outputs": [],
   "source": []
  }
 ],
 "metadata": {
  "kernelspec": {
   "display_name": "Python 3 (ipykernel)",
   "language": "python",
   "name": "python3"
  },
  "language_info": {
   "codemirror_mode": {
    "name": "ipython",
    "version": 3
   },
   "file_extension": ".py",
   "mimetype": "text/x-python",
   "name": "python",
   "nbconvert_exporter": "python",
   "pygments_lexer": "ipython3",
   "version": "3.10.12"
  }
 },
 "nbformat": 4,
 "nbformat_minor": 5
}
